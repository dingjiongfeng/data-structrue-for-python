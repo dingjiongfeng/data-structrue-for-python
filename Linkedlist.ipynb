{
 "cells": [
  {
   "cell_type": "markdown",
   "metadata": {},
   "source": [
    "## 链表"
   ]
  },
  {
   "cell_type": "code",
   "execution_count": 1,
   "metadata": {},
   "outputs": [],
   "source": [
    "class node:\n",
    "    def __init__(self, data, next=None):\n",
    "        self.data = data\n",
    "        self.next = next"
   ]
  },
  {
   "cell_type": "code",
   "execution_count": 2,
   "metadata": {},
   "outputs": [],
   "source": [
    "class Linkedlist:\n",
    "    def __init__(self):\n",
    "        self._size = 0\n",
    "        self.head = None\n",
    "        \n",
    "    def isEmpty(self):\n",
    "        return self._size == 0\n",
    "    \n",
    "    def add(self,node):\n",
    "        if not self.head:\n",
    "            self.head = node\n",
    "            self._size += 1\n",
    "        \n",
    "        else:\n",
    "            temp = self.head\n",
    "            while temp.next:\n",
    "                temp = temp.next\n",
    "            temp.next = node\n",
    "            self._size += 1\n",
    "            \n",
    "    def delete(self,index):\n",
    "        if not self.isEmpty():\n",
    "            print(\"error\")\n",
    "            return\n",
    "        \n",
    "        if (index<0 or index>=self._size):\n",
    "            print(\"index error\")\n",
    "            return \n",
    "        \n",
    "        if index == 0:\n",
    "            self.haed = self.head.next\n",
    "            self._size -= 1\n",
    "            \n",
    "        j = 0\n",
    "        prev = self.head\n",
    "        node = self.head\n",
    "        while node.next and j < index:\n",
    "            prev = node\n",
    "            node = node.next\n",
    "            j += 1\n",
    "            \n",
    "        if  j == index:\n",
    "            prev.next = node.next\n",
    "            self._size -= 1\n",
    "            \n",
    "    def update(self,index,element):\n",
    "        if index<0 or index>=self._size:\n",
    "            print(\"index error\")\n",
    "            return \n",
    "        node  = self.head\n",
    "        for i in range(index):\n",
    "            node = node.next\n",
    "        node.data = element.data\n",
    "        \n",
    "    def getItem(self,index):\n",
    "        if self.isEmpty():\n",
    "            print(\"no elements\")\n",
    "            return \n",
    "        if index<0 or index>=self._size:\n",
    "            print(\"index error\")\n",
    "            return \n",
    "        else:\n",
    "            node  = self.head\n",
    "            for i in range(index):\n",
    "                node = node.next\n",
    "            return node.data\n",
    "    \n",
    "    def getIndex(self,data):\n",
    "        if self.isEmpty():\n",
    "            print(\"no elements\")\n",
    "            return \n",
    "        \n",
    "        j = 0\n",
    "        node  = self.head\n",
    "        while node:\n",
    "            if node.data == data:\n",
    "                return j\n",
    "            node = node.next\n",
    "            j += 1\n",
    "        return \"no such element\"\n",
    "    \n",
    "    def insert(self, index, data):\n",
    "        if index<0 or index>=self._size:\n",
    "            print(\"index error\")\n",
    "            return \n",
    "        \n",
    "        if index == 0:\n",
    "            data.next = self.head\n",
    "            self.head = data\n",
    "            self._size += 1\n",
    "            \n",
    "        j = 0\n",
    "        prev = self.head\n",
    "        node = self.head\n",
    "        while node.next and j < index:\n",
    "            prev = node\n",
    "            node = node.next\n",
    "            j += 1\n",
    "            \n",
    "        if  j == index:\n",
    "            data.next = node\n",
    "            prev.next = data\n",
    "            self._size += 1\n",
    "            \n",
    "    def print(self):\n",
    "        node = self.head\n",
    "        while node:\n",
    "            print(node.data)\n",
    "            node = node.next"
   ]
  },
  {
   "cell_type": "code",
   "execution_count": 3,
   "metadata": {},
   "outputs": [],
   "source": [
    "list1 = Linkedlist()\n",
    "node1 = node(0)\n",
    "node2 = node(1)\n",
    "node3 = node(2)\n",
    "node4 = node(3)\n",
    "node5 = node(4)"
   ]
  },
  {
   "cell_type": "code",
   "execution_count": 4,
   "metadata": {},
   "outputs": [],
   "source": [
    "list1.add(node1)\n",
    "list1.add(node2)\n",
    "list1.add(node3)"
   ]
  },
  {
   "cell_type": "code",
   "execution_count": 5,
   "metadata": {},
   "outputs": [
    {
     "name": "stdout",
     "output_type": "stream",
     "text": [
      "index error\n"
     ]
    }
   ],
   "source": [
    "list1.getItem(3)"
   ]
  },
  {
   "cell_type": "code",
   "execution_count": 6,
   "metadata": {},
   "outputs": [
    {
     "data": {
      "text/plain": [
       "2"
      ]
     },
     "execution_count": 6,
     "metadata": {},
     "output_type": "execute_result"
    }
   ],
   "source": [
    "list1.getIndex(2)"
   ]
  },
  {
   "cell_type": "code",
   "execution_count": 7,
   "metadata": {},
   "outputs": [],
   "source": [
    "list1.insert(2,node4)"
   ]
  },
  {
   "cell_type": "code",
   "execution_count": 8,
   "metadata": {},
   "outputs": [
    {
     "name": "stdout",
     "output_type": "stream",
     "text": [
      "0\n",
      "1\n",
      "3\n",
      "2\n"
     ]
    }
   ],
   "source": [
    "list1.print()"
   ]
  },
  {
   "cell_type": "markdown",
   "metadata": {},
   "source": [
    "## 循环单链表"
   ]
  },
  {
   "cell_type": "code",
   "execution_count": 28,
   "metadata": {},
   "outputs": [],
   "source": [
    "class CycleSingleLinkList:\n",
    "    def __init__(self,node=None):\n",
    "        self.head = node\n",
    "        \n",
    "    def isEmpty(self):\n",
    "        return self.head is None\n",
    "    \n",
    "    def length(self):\n",
    "        if self.isEmpty():\n",
    "            return 0\n",
    "        \n",
    "        j = 1\n",
    "        current = self.head\n",
    "        while current.next != self.head:\n",
    "            j += 1\n",
    "            current = current.next\n",
    "        return j\n",
    "        \n",
    "    def add(self,data): #头部添加\n",
    "        node1 = node(data)\n",
    "        if self.isEmpty():\n",
    "            self.head = node1\n",
    "            node1.next = node1\n",
    "        \n",
    "        else:\n",
    "            temp = self.head\n",
    "            while temp.next!=self.head:\n",
    "                temp = temp.next\n",
    "            temp.next = node1\n",
    "            node1.next = self.head\n",
    "            node1 = self.head\n",
    "        \n",
    "    def append(self,data): #尾部添加\n",
    "        node1 = node(data)\n",
    "        if self.isEmpty():\n",
    "            self.head = node1\n",
    "            node1.next = node1\n",
    "        \n",
    "        else:\n",
    "            temp = self.head\n",
    "            while temp.next!=self.head:\n",
    "                temp = temp.next\n",
    "                \n",
    "            node1.next = self.head\n",
    "            temp.next = node1\n",
    "            \n",
    "    def delete(self,item):\n",
    "        if not self.isEmpty():\n",
    "            print(\"error\")\n",
    "            return\n",
    "            \n",
    "        cur = self.head\n",
    "        pre = None\n",
    "        while cur.next != self.head:\n",
    "            pre = cur\n",
    "            cur = cur.next\n",
    "            if cur.data == item:\n",
    "                pre.next = cur.next\n",
    "    \n",
    "    def search(self,data):\n",
    "        if self.isEmpty():\n",
    "            print(\"no elements\")\n",
    "            return \n",
    "        \n",
    "        node  = self.head\n",
    "        while node.next != self.head:\n",
    "            if node.data == data:\n",
    "                return True\n",
    "            node = node.next\n",
    "        if node.data == data:\n",
    "            return True\n",
    "        return False\n",
    "    \n",
    "    def insert(self, index, data):\n",
    "        if index < 0:\n",
    "            self.add(data)\n",
    "        if index >= self.length():\n",
    "            self.append(data)\n",
    "            \n",
    "        cur = self.head\n",
    "        count = 0\n",
    "        while count < index-1: #前一个位置\n",
    "            count += 1\n",
    "            cur = cur.next\n",
    "        node = node(data)\n",
    "        node.next = cur.next\n",
    "        cur.next = node\n",
    "            \n",
    "    def print(self):\n",
    "        if self.isEmpty():\n",
    "            print(\"空\")\n",
    "            return \n",
    "        node = self.head\n",
    "        while node!=self.head:\n",
    "            print(node.data)\n",
    "            node = node.next\n",
    "        print(node.data)"
   ]
  },
  {
   "cell_type": "code",
   "execution_count": 29,
   "metadata": {},
   "outputs": [],
   "source": [
    "list2 = CycleSingleLinkList()"
   ]
  },
  {
   "cell_type": "code",
   "execution_count": 30,
   "metadata": {},
   "outputs": [
    {
     "data": {
      "text/plain": [
       "0"
      ]
     },
     "execution_count": 30,
     "metadata": {},
     "output_type": "execute_result"
    }
   ],
   "source": [
    "list2.length()"
   ]
  },
  {
   "cell_type": "code",
   "execution_count": 31,
   "metadata": {},
   "outputs": [
    {
     "data": {
      "text/plain": [
       "1"
      ]
     },
     "execution_count": 31,
     "metadata": {},
     "output_type": "execute_result"
    }
   ],
   "source": [
    "list2.append(3)\n",
    "list2.length()"
   ]
  },
  {
   "cell_type": "code",
   "execution_count": 32,
   "metadata": {},
   "outputs": [
    {
     "name": "stdout",
     "output_type": "stream",
     "text": [
      "3\n"
     ]
    }
   ],
   "source": [
    "list2.print()"
   ]
  },
  {
   "cell_type": "code",
   "execution_count": null,
   "metadata": {},
   "outputs": [],
   "source": []
  }
 ],
 "metadata": {
  "kernelspec": {
   "display_name": "Python 3",
   "language": "python",
   "name": "python3"
  },
  "language_info": {
   "codemirror_mode": {
    "name": "ipython",
    "version": 3
   },
   "file_extension": ".py",
   "mimetype": "text/x-python",
   "name": "python",
   "nbconvert_exporter": "python",
   "pygments_lexer": "ipython3",
   "version": "3.7.3"
  }
 },
 "nbformat": 4,
 "nbformat_minor": 2
}
