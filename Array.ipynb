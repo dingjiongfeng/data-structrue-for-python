{
 "cells": [
  {
   "cell_type": "code",
   "execution_count": 70,
   "metadata": {
    "scrolled": true
   },
   "outputs": [],
   "source": [
    "class Array:\n",
    "    def __init__(self,capacity=10):\n",
    "        self.capacity = capacity #数组的大小\n",
    "        self.size = 0 #已使用的大小\n",
    "        self.data = [None] * capacity   \n",
    "        \n",
    "    def add(self,index,item):\n",
    "        if (index<0 or index>self.size):\n",
    "            print(\"非法操作！\")\n",
    "            return \n",
    "        #满了\n",
    "        if (self.size == self.capacity):\n",
    "            self.resize(self.capacity * 2)\n",
    "        #移动元素\n",
    "        for i in range(self.size-1, index-1, -1):\n",
    "            self.data[i+1] = self.data[i]\n",
    "        self.data[index] = item\n",
    "        self.size += 1\n",
    "        \n",
    "    def resize(self,capacity):\n",
    "        temp = Array(capacity)\n",
    "        for i in range(self.size):\n",
    "            temp.add(i,self.data[i])\n",
    "        self.data = temp.data\n",
    "        self.capacity = capacity\n",
    "    \n",
    "    def print(self):\n",
    "        for i in range(self.size):\n",
    "            print(self.data[i],end='\\t')"
   ]
  },
  {
   "cell_type": "code",
   "execution_count": 71,
   "metadata": {},
   "outputs": [],
   "source": [
    "arr = Array(9)"
   ]
  },
  {
   "cell_type": "code",
   "execution_count": 72,
   "metadata": {},
   "outputs": [],
   "source": [
    "arr.add(0,1)"
   ]
  },
  {
   "cell_type": "code",
   "execution_count": 73,
   "metadata": {},
   "outputs": [
    {
     "data": {
      "text/plain": [
       "[1, None, None, None, None, None, None, None, None]"
      ]
     },
     "execution_count": 73,
     "metadata": {},
     "output_type": "execute_result"
    }
   ],
   "source": [
    "arr.data"
   ]
  },
  {
   "cell_type": "code",
   "execution_count": 74,
   "metadata": {},
   "outputs": [],
   "source": [
    "arr.resize(18)"
   ]
  },
  {
   "cell_type": "code",
   "execution_count": 75,
   "metadata": {},
   "outputs": [
    {
     "data": {
      "text/plain": [
       "[1,\n",
       " None,\n",
       " None,\n",
       " None,\n",
       " None,\n",
       " None,\n",
       " None,\n",
       " None,\n",
       " None,\n",
       " None,\n",
       " None,\n",
       " None,\n",
       " None,\n",
       " None,\n",
       " None,\n",
       " None,\n",
       " None,\n",
       " None]"
      ]
     },
     "execution_count": 75,
     "metadata": {},
     "output_type": "execute_result"
    }
   ],
   "source": [
    "arr.data"
   ]
  },
  {
   "cell_type": "code",
   "execution_count": 76,
   "metadata": {},
   "outputs": [],
   "source": [
    "arr.add(1,3)"
   ]
  },
  {
   "cell_type": "code",
   "execution_count": 77,
   "metadata": {},
   "outputs": [
    {
     "name": "stdout",
     "output_type": "stream",
     "text": [
      "1\t3\t"
     ]
    }
   ],
   "source": [
    "arr.print()"
   ]
  }
 ],
 "metadata": {
  "kernelspec": {
   "display_name": "Python 3",
   "language": "python",
   "name": "python3"
  },
  "language_info": {
   "codemirror_mode": {
    "name": "ipython",
    "version": 3
   },
   "file_extension": ".py",
   "mimetype": "text/x-python",
   "name": "python",
   "nbconvert_exporter": "python",
   "pygments_lexer": "ipython3",
   "version": "3.7.3"
  }
 },
 "nbformat": 4,
 "nbformat_minor": 2
}
