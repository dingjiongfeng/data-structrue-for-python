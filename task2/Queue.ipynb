{
 "cells": [
  {
   "cell_type": "code",
   "execution_count": 1,
   "metadata": {},
   "outputs": [],
   "source": [
    "class Queue:\n",
    "    def __init__(self,capacity=10):\n",
    "        self._capacity = capacity\n",
    "        self._size = 0\n",
    "        self._data = [None] * capacity\n",
    "        \n",
    "    def EnQueue(self,elem):\n",
    "        if self._size == self._capacity:\n",
    "            print(\"队列已满\")\n",
    "            return\n",
    "        self._data[self._size] = elem\n",
    "        self._size += 1\n",
    "        \n",
    "    def DeQueue(self):\n",
    "        if self.QueueEmpty():\n",
    "            print(\"队列为空\")\n",
    "            return\n",
    "        temp = self._data[0]\n",
    "        arr = [None] * self._capacity\n",
    "        self._size -= 1\n",
    "        for i in range(self._size):\n",
    "            arr[i] = self._data[i+1]\n",
    "        self._data = arr\n",
    "        return temp\n",
    "    \n",
    "    def GetHead(self):\n",
    "        return self._data[0]\n",
    "    \n",
    "    def QueueLength(self):\n",
    "        return self._size\n",
    "    \n",
    "    def ClearQueue(self):\n",
    "        self._data = self._capacity * [None]\n",
    "        self._size = 0\n",
    "        \n",
    "    def QueueEmpty(self):\n",
    "        return self._size == 0"
   ]
  },
  {
   "cell_type": "code",
   "execution_count": 2,
   "metadata": {},
   "outputs": [],
   "source": [
    "q = Queue(9)"
   ]
  },
  {
   "cell_type": "code",
   "execution_count": 3,
   "metadata": {},
   "outputs": [],
   "source": [
    "q.EnQueue(1)\n",
    "q.EnQueue(2)\n",
    "q.EnQueue(3)\n",
    "q.EnQueue(4)"
   ]
  },
  {
   "cell_type": "code",
   "execution_count": 4,
   "metadata": {},
   "outputs": [
    {
     "data": {
      "text/plain": [
       "4"
      ]
     },
     "execution_count": 4,
     "metadata": {},
     "output_type": "execute_result"
    }
   ],
   "source": [
    "q.QueueLength()"
   ]
  },
  {
   "cell_type": "code",
   "execution_count": 5,
   "metadata": {},
   "outputs": [
    {
     "name": "stdout",
     "output_type": "stream",
     "text": [
      "1\n"
     ]
    }
   ],
   "source": [
    "print(q.GetHead())"
   ]
  },
  {
   "cell_type": "code",
   "execution_count": 6,
   "metadata": {},
   "outputs": [
    {
     "data": {
      "text/plain": [
       "3"
      ]
     },
     "execution_count": 6,
     "metadata": {},
     "output_type": "execute_result"
    }
   ],
   "source": [
    "q.DeQueue()\n",
    "q.QueueLength()"
   ]
  },
  {
   "cell_type": "code",
   "execution_count": 7,
   "metadata": {},
   "outputs": [
    {
     "data": {
      "text/plain": [
       "[2, 3, 4, None, None, None, None, None, None]"
      ]
     },
     "execution_count": 7,
     "metadata": {},
     "output_type": "execute_result"
    }
   ],
   "source": [
    "q._data"
   ]
  },
  {
   "cell_type": "code",
   "execution_count": 8,
   "metadata": {},
   "outputs": [
    {
     "data": {
      "text/plain": [
       "2"
      ]
     },
     "execution_count": 8,
     "metadata": {},
     "output_type": "execute_result"
    }
   ],
   "source": [
    "q.DeQueue()"
   ]
  },
  {
   "cell_type": "code",
   "execution_count": 9,
   "metadata": {},
   "outputs": [
    {
     "data": {
      "text/plain": [
       "[3, 4, None, None, None, None, None, None, None]"
      ]
     },
     "execution_count": 9,
     "metadata": {},
     "output_type": "execute_result"
    }
   ],
   "source": [
    "q._data"
   ]
  },
  {
   "cell_type": "code",
   "execution_count": 10,
   "metadata": {},
   "outputs": [
    {
     "data": {
      "text/plain": [
       "3"
      ]
     },
     "execution_count": 10,
     "metadata": {},
     "output_type": "execute_result"
    }
   ],
   "source": [
    "q.DeQueue()"
   ]
  },
  {
   "cell_type": "code",
   "execution_count": 11,
   "metadata": {},
   "outputs": [
    {
     "data": {
      "text/plain": [
       "4"
      ]
     },
     "execution_count": 11,
     "metadata": {},
     "output_type": "execute_result"
    }
   ],
   "source": [
    "q.DeQueue()"
   ]
  },
  {
   "cell_type": "code",
   "execution_count": 12,
   "metadata": {},
   "outputs": [],
   "source": [
    "q.ClearQueue()"
   ]
  },
  {
   "cell_type": "code",
   "execution_count": 13,
   "metadata": {},
   "outputs": [
    {
     "data": {
      "text/plain": [
       "[None, None, None, None, None, None, None, None, None]"
      ]
     },
     "execution_count": 13,
     "metadata": {},
     "output_type": "execute_result"
    }
   ],
   "source": [
    "q._data"
   ]
  },
  {
   "cell_type": "code",
   "execution_count": 14,
   "metadata": {},
   "outputs": [],
   "source": [
    "class node:\n",
    "    def __init__(self,arg,ptr = None):\n",
    "        self.data = arg\n",
    "        self.next = ptr\n",
    "class LinkQueue:\n",
    "    def __init__(self):\n",
    "        self.__rear = None\n",
    "        self.__front = None\n",
    "        \n",
    "    def EnQueue(self,elem):\n",
    "        if self.QueueEmpty():\n",
    "            self.__rear = elem\n",
    "            self.__front = elem\n",
    "        else:\n",
    "            self.__rear.next = elem  \n",
    "            self.__rear = elem \n",
    "        \n",
    "    def DeQueue(self):\n",
    "        if self.QueueEmpty():\n",
    "            print(\"队列为空\")\n",
    "            return\n",
    "        res = self.__front.data\n",
    "        self.__front = self.__front.next\n",
    "        return res\n",
    "        \n",
    "    def GetHead(self):\n",
    "        if self.QueueEmpty():\n",
    "            print(\"队列为空，无法取出元素\")\n",
    "            return \n",
    "        return self.__front.data\n",
    "    \n",
    "    def QueueLength(self):\n",
    "        cur = self.__front\n",
    "        count = 0\n",
    "        while cur!=None:\n",
    "            cur = cur.next\n",
    "            count += 1\n",
    "        return count\n",
    "        \n",
    "    def QueueEmpty(self):\n",
    "        return self.__front is None\n",
    "        \n",
    "    def QueueTraverse(self):\n",
    "        cur = self.__front\n",
    "        while cur!=None:\n",
    "            print(cur.data,end=\" \")\n",
    "            cur = cur.next"
   ]
  },
  {
   "cell_type": "code",
   "execution_count": 15,
   "metadata": {},
   "outputs": [
    {
     "name": "stdout",
     "output_type": "stream",
     "text": [
      "队列为空\n"
     ]
    }
   ],
   "source": [
    "lq = LinkQueue()\n",
    "if lq.QueueEmpty():\n",
    "    print(\"队列为空\")"
   ]
  },
  {
   "cell_type": "code",
   "execution_count": 16,
   "metadata": {},
   "outputs": [],
   "source": [
    "node1 = node(1)\n",
    "lq.EnQueue(node1)\n",
    "node2 = node(2)\n",
    "lq.EnQueue(node2)\n",
    "node3 = node(3)\n",
    "lq.EnQueue(node3)\n",
    "node4 = node(4)\n",
    "lq.EnQueue(node4)"
   ]
  },
  {
   "cell_type": "code",
   "execution_count": 17,
   "metadata": {},
   "outputs": [
    {
     "data": {
      "text/plain": [
       "4"
      ]
     },
     "execution_count": 17,
     "metadata": {},
     "output_type": "execute_result"
    }
   ],
   "source": [
    "lq.QueueLength()"
   ]
  },
  {
   "cell_type": "code",
   "execution_count": 18,
   "metadata": {},
   "outputs": [
    {
     "name": "stdout",
     "output_type": "stream",
     "text": [
      "1 2 3 4 "
     ]
    }
   ],
   "source": [
    "lq.QueueTraverse()"
   ]
  },
  {
   "cell_type": "code",
   "execution_count": 19,
   "metadata": {},
   "outputs": [
    {
     "data": {
      "text/plain": [
       "1"
      ]
     },
     "execution_count": 19,
     "metadata": {},
     "output_type": "execute_result"
    }
   ],
   "source": [
    "lq.DeQueue()"
   ]
  },
  {
   "cell_type": "code",
   "execution_count": 20,
   "metadata": {},
   "outputs": [
    {
     "data": {
      "text/plain": [
       "2"
      ]
     },
     "execution_count": 20,
     "metadata": {},
     "output_type": "execute_result"
    }
   ],
   "source": [
    "lq.DeQueue()"
   ]
  },
  {
   "cell_type": "code",
   "execution_count": 21,
   "metadata": {},
   "outputs": [
    {
     "data": {
      "text/plain": [
       "3"
      ]
     },
     "execution_count": 21,
     "metadata": {},
     "output_type": "execute_result"
    }
   ],
   "source": [
    "lq.DeQueue()"
   ]
  },
  {
   "cell_type": "code",
   "execution_count": 22,
   "metadata": {},
   "outputs": [
    {
     "data": {
      "text/plain": [
       "4"
      ]
     },
     "execution_count": 22,
     "metadata": {},
     "output_type": "execute_result"
    }
   ],
   "source": [
    "lq.DeQueue()"
   ]
  },
  {
   "cell_type": "code",
   "execution_count": 23,
   "metadata": {},
   "outputs": [
    {
     "name": "stdout",
     "output_type": "stream",
     "text": [
      "队列为空，无法取出元素\n"
     ]
    }
   ],
   "source": [
    "lq.GetHead()"
   ]
  },
  {
   "cell_type": "code",
   "execution_count": 24,
   "metadata": {},
   "outputs": [],
   "source": [
    "class recycleQueue:\n",
    "    def __init__(self,maxsize=10):\n",
    "        self.size = maxsize\n",
    "        self.data = [None] * maxsize\n",
    "        self.rear = 0\n",
    "        self.front = 0\n",
    "        \n",
    "    def EnQueue(self,elem):\n",
    "        if (self.rear+1) % self.size == self.front:\n",
    "            print(\"队列满了\")\n",
    "            return \n",
    "        self.data[self.rear] = elem\n",
    "        self.rear = (self.rear+1) % self.size\n",
    "        \n",
    "    def DeQueue(self):\n",
    "        if self.rear == self.front:\n",
    "            print(\"队列为空\")\n",
    "            return\n",
    "        e = self.data[self.front]\n",
    "        self.data[self.front] = None\n",
    "        self.front = (self.front+1) % self.size\n",
    "        return e\n",
    "    \n",
    "    def QueueLength(self):\n",
    "        return (self.rear - self.front + self.size) % self.size\n",
    "    \n",
    "    def showQueue(self):\n",
    "        for i in range(self.size):\n",
    "            print(self.data[i],end=\" \")"
   ]
  },
  {
   "cell_type": "code",
   "execution_count": 25,
   "metadata": {},
   "outputs": [],
   "source": [
    "rq = recycleQueue(8)"
   ]
  },
  {
   "cell_type": "code",
   "execution_count": 26,
   "metadata": {},
   "outputs": [
    {
     "name": "stdout",
     "output_type": "stream",
     "text": [
      "队列为空\n"
     ]
    }
   ],
   "source": [
    "rq.DeQueue()"
   ]
  },
  {
   "cell_type": "code",
   "execution_count": 27,
   "metadata": {},
   "outputs": [
    {
     "name": "stdout",
     "output_type": "stream",
     "text": [
      "0 1 2 3 4 None None None "
     ]
    }
   ],
   "source": [
    "for i in range(5):\n",
    "    rq.EnQueue(i)\n",
    "rq.showQueue()"
   ]
  },
  {
   "cell_type": "code",
   "execution_count": 28,
   "metadata": {},
   "outputs": [
    {
     "name": "stdout",
     "output_type": "stream",
     "text": [
      "None None None 3 4 None None None "
     ]
    }
   ],
   "source": [
    "for i in range(3):\n",
    "    rq.DeQueue()\n",
    "rq.showQueue()"
   ]
  },
  {
   "cell_type": "code",
   "execution_count": 29,
   "metadata": {},
   "outputs": [
    {
     "data": {
      "text/plain": [
       "2"
      ]
     },
     "execution_count": 29,
     "metadata": {},
     "output_type": "execute_result"
    }
   ],
   "source": [
    "rq.QueueLength()"
   ]
  },
  {
   "cell_type": "code",
   "execution_count": 30,
   "metadata": {},
   "outputs": [
    {
     "name": "stdout",
     "output_type": "stream",
     "text": [
      "3 4 None 3 4 0 1 2 "
     ]
    }
   ],
   "source": [
    "for i in range(5):\n",
    "    rq.EnQueue(i)\n",
    "rq.showQueue()"
   ]
  }
 ],
 "metadata": {
  "kernelspec": {
   "display_name": "Python 3",
   "language": "python",
   "name": "python3"
  },
  "language_info": {
   "codemirror_mode": {
    "name": "ipython",
    "version": 3
   },
   "file_extension": ".py",
   "mimetype": "text/x-python",
   "name": "python",
   "nbconvert_exporter": "python",
   "pygments_lexer": "ipython3",
   "version": "3.7.3"
  }
 },
 "nbformat": 4,
 "nbformat_minor": 2
}
